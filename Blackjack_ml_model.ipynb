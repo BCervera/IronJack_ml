{
 "cells": [
  {
   "cell_type": "code",
   "execution_count": 33,
   "id": "58544915",
   "metadata": {},
   "outputs": [
    {
     "name": "stdout",
     "output_type": "stream",
     "text": [
      "📊 Hit Count: 29778, Stand Count: 20222\n",
      "✅ Dataset created:\n",
      "   Player_Total  Dealer_Card  Has_Ace  Zen_Count  Prob_Win  Prob_Loss  \\\n",
      "0            16            9        1         -4  0.335811   0.825675   \n",
      "1            17            7        0         -4  0.211944   0.511189   \n",
      "2             9            3        0          8  0.728819   0.263630   \n",
      "3            13            3        1         -4  0.307993   0.765070   \n",
      "4            14            2        0         -9  0.100000   0.895695   \n",
      "\n",
      "   Prob_Draw  Decision  \n",
      "0   0.000000         1  \n",
      "1   0.200000         0  \n",
      "2   0.007551         1  \n",
      "3   0.000000         0  \n",
      "4   0.068991         0  \n"
     ]
    }
   ],
   "source": [
    "import pandas as pd\n",
    "import numpy as np\n",
    "\n",
    "# Function to determine the best action using basic strategy + Zen Count\n",
    "def basic_blackjack_strategy(player_total, dealer_card, has_ace, zen_count):\n",
    "    \"\"\"\n",
    "    Returns the optimal decision based on basic Blackjack strategy + Zen Count influence.\n",
    "    \"\"\"\n",
    "    if player_total >= 17:\n",
    "        return 0  # Stand on 17+\n",
    "    if player_total <= 11:\n",
    "        return 1  # Hit on 11 or less\n",
    "    if player_total == 12:\n",
    "        return 0 if dealer_card in [4, 5, 6] else 1  # Stand if dealer has weak hand\n",
    "    if player_total in [13, 14, 15, 16]:\n",
    "        return 0 if dealer_card in [2, 3, 4, 5, 6] else 1  # Stand on weak dealer\n",
    "    # Zen Count adjustments: If count is high, favor Stand\n",
    "    if zen_count > 3 and player_total >= 15:\n",
    "        return 0  # Stand with a strong count\n",
    "    return 1  # Default Hit\n",
    "\n",
    "data = []\n",
    "\n",
    "# Expand game scenarios by generating more random hands\n",
    "for _ in range(50000):  \n",
    "    player_total = np.random.randint(4, 22)  \n",
    "    dealer_card = np.random.randint(1, 11)  \n",
    "    has_ace = np.random.choice([0, 1])  \n",
    "    zen_count = np.random.randint(-10, 11)  \n",
    "\n",
    "    base_prob_win = np.random.uniform(0.2, 0.7)\n",
    "    base_prob_loss = np.random.uniform(0.3, 0.8)\n",
    "\n",
    "    # Adjust probabilities based on game conditions\n",
    "    prob_win = base_prob_win + (zen_count * 0.02)  # Higher Zen count increases win rate slightly\n",
    "    prob_loss = base_prob_loss - (zen_count * 0.02)  # Lower Zen count reduces loss rate\n",
    "\n",
    "    prob_draw = 1 - (prob_win + prob_loss)  \n",
    "    prob_win = max(0.1, min(0.9, prob_win))\n",
    "    prob_loss = max(0.1, min(0.9, prob_loss))\n",
    "    prob_draw = max(0.0, min(0.2, prob_draw))\n",
    "\n",
    "    decision = basic_blackjack_strategy(player_total, dealer_card, has_ace, zen_count)\n",
    "    data.append([player_total, dealer_card, has_ace, zen_count, prob_win, prob_loss, prob_draw, decision])\n",
    "\n",
    "# Convert to DataFrame\n",
    "df = pd.DataFrame(data, columns=[\"Player_Total\", \"Dealer_Card\", \"Has_Ace\", \"Zen_Count\", \"Prob_Win\", \"Prob_Loss\", \"Prob_Draw\", \"Decision\"])\n",
    "\n",
    "hit_count = df[df[\"Decision\"] == 1].shape[0]\n",
    "stand_count = df[df[\"Decision\"] == 0].shape[0]\n",
    "\n",
    "print(f\"📊 Hit Count: {hit_count}, Stand Count: {stand_count}\")\n",
    "\n",
    "df.to_csv(\"blackjack_training_dataset.csv\", index=False)\n",
    "\n",
    "print(\"✅ Dataset created:\")\n",
    "print(df.head())"
   ]
  },
  {
   "cell_type": "code",
   "execution_count": 34,
   "id": "c0b08c36",
   "metadata": {},
   "outputs": [
    {
     "name": "stdout",
     "output_type": "stream",
     "text": [
      "📌 **First rows of the dataset:**\n",
      "   Player_Total  Dealer_Card  Has_Ace  Zen_Count  Prob_Win  Prob_Loss  \\\n",
      "0            16            9        1         -4  0.335811   0.825675   \n",
      "1            17            7        0         -4  0.211944   0.511189   \n",
      "2             9            3        0          8  0.728819   0.263630   \n",
      "3            13            3        1         -4  0.307993   0.765070   \n",
      "4            14            2        0         -9  0.100000   0.895695   \n",
      "\n",
      "   Prob_Draw  Decision  \n",
      "0   0.000000         1  \n",
      "1   0.200000         0  \n",
      "2   0.007551         1  \n",
      "3   0.000000         0  \n",
      "4   0.068991         0  \n"
     ]
    }
   ],
   "source": [
    "import pandas as pd\n",
    "df = pd.read_csv(\"/Users/borjacervera/Documents/Ironhack/VS_Code/personal_pruebas/blackjack_training_dataset.csv\")\n",
    "\n",
    "# Display the first rows\n",
    "print(\"📌 **First rows of the dataset:**\")\n",
    "print(df.head())"
   ]
  },
  {
   "cell_type": "code",
   "execution_count": 35,
   "id": "85e30abd",
   "metadata": {},
   "outputs": [
    {
     "name": "stdout",
     "output_type": "stream",
     "text": [
      "\n",
      "📊 **Dataset information:**\n",
      "<class 'pandas.core.frame.DataFrame'>\n",
      "RangeIndex: 50000 entries, 0 to 49999\n",
      "Data columns (total 8 columns):\n",
      " #   Column        Non-Null Count  Dtype  \n",
      "---  ------        --------------  -----  \n",
      " 0   Player_Total  50000 non-null  int64  \n",
      " 1   Dealer_Card   50000 non-null  int64  \n",
      " 2   Has_Ace       50000 non-null  int64  \n",
      " 3   Zen_Count     50000 non-null  int64  \n",
      " 4   Prob_Win      50000 non-null  float64\n",
      " 5   Prob_Loss     50000 non-null  float64\n",
      " 6   Prob_Draw     50000 non-null  float64\n",
      " 7   Decision      50000 non-null  int64  \n",
      "dtypes: float64(3), int64(5)\n",
      "memory usage: 3.1 MB\n",
      "None\n"
     ]
    }
   ],
   "source": [
    "# Display general information about the dataset\n",
    "print(\"\\n📊 **Dataset information:**\")\n",
    "print(df.info())"
   ]
  },
  {
   "cell_type": "code",
   "execution_count": 36,
   "id": "8012e7f5",
   "metadata": {},
   "outputs": [
    {
     "name": "stdout",
     "output_type": "stream",
     "text": [
      "\n",
      "📈 **Dataset statistics:**\n",
      "       Player_Total   Dealer_Card       Has_Ace     Zen_Count      Prob_Win  \\\n",
      "count  50000.000000  50000.000000  50000.000000  50000.000000  50000.000000   \n",
      "mean      12.475160      5.505800      0.498420     -0.044040      0.449805   \n",
      "std        5.177756      2.885594      0.500003      6.065736      0.186201   \n",
      "min        4.000000      1.000000      0.000000    -10.000000      0.100000   \n",
      "25%        8.000000      3.000000      0.000000     -5.000000      0.313317   \n",
      "50%       12.000000      6.000000      0.000000      0.000000      0.448358   \n",
      "75%       17.000000      8.000000      1.000000      5.000000      0.585176   \n",
      "max       21.000000     10.000000      1.000000     10.000000      0.899734   \n",
      "\n",
      "          Prob_Loss     Prob_Draw      Decision  \n",
      "count  50000.000000  50000.000000  50000.000000  \n",
      "mean       0.548774      0.065879      0.595560  \n",
      "std        0.186420      0.081805      0.490788  \n",
      "min        0.100020      0.000000      0.000000  \n",
      "25%        0.413524      0.000000      0.000000  \n",
      "50%        0.549388      0.002340      1.000000  \n",
      "75%        0.684897      0.148365      1.000000  \n",
      "max        0.900000      0.200000      1.000000  \n"
     ]
    }
   ],
   "source": [
    "# Show statistical description of the dataset\n",
    "print(\"\\n📈 **Dataset statistics:**\")\n",
    "print(df.describe())"
   ]
  },
  {
   "cell_type": "code",
   "execution_count": 37,
   "id": "988e1317",
   "metadata": {},
   "outputs": [
    {
     "name": "stdout",
     "output_type": "stream",
     "text": [
      "\n",
      "📌 **Decision distribution in the dataset:**\n",
      "Decision\n",
      "1    29778\n",
      "0    20222\n",
      "Name: count, dtype: int64\n",
      "\n",
      "📊 **Decision percentages:**\n",
      "Decision\n",
      "1    59.556\n",
      "0    40.444\n",
      "Name: proportion, dtype: float64\n"
     ]
    }
   ],
   "source": [
    "# Check decision distribution (0 = Stand, 1 = Hit)\n",
    "decision_counts = df[\"Decision\"].value_counts()\n",
    "decision_percentages = df[\"Decision\"].value_counts(normalize=True) * 100\n",
    "\n",
    "print(\"\\n📌 **Decision distribution in the dataset:**\")\n",
    "print(decision_counts)\n",
    "\n",
    "print(\"\\n📊 **Decision percentages:**\")\n",
    "print(decision_percentages)"
   ]
  },
  {
   "cell_type": "code",
   "execution_count": 38,
   "id": "1eecce73",
   "metadata": {},
   "outputs": [
    {
     "name": "stderr",
     "output_type": "stream",
     "text": [
      "/var/folders/9b/1k3cjn9x4cg_w6793ryzh2hw0000gn/T/ipykernel_8870/3631369005.py:24: FutureWarning: \n",
      "\n",
      "Passing `palette` without assigning `hue` is deprecated and will be removed in v0.14.0. Assign the `x` variable to `hue` and set `legend=False` for the same effect.\n",
      "\n",
      "  sns.barplot(x=decision_counts.index, y=decision_counts.values, palette=\"coolwarm\")\n"
     ]
    },
    {
     "data": {
      "image/png": "[encoded data removed]",
      "text/plain": [
       "<Figure size 1200x600 with 4 Axes>"
      ]
     },
     "metadata": {},
     "output_type": "display_data"
    }
   ],
   "source": [
    "import matplotlib.pyplot as plt\n",
    "import seaborn as sns\n",
    "\n",
    "# 🔥 **Visualization of key variable distributions**\n",
    "plt.figure(figsize=(12, 6))\n",
    "\n",
    "# Histogram of Player's Total\n",
    "plt.subplot(2, 2, 1)\n",
    "sns.histplot(df[\"Player_Total\"], bins=10, kde=True, color=\"blue\")\n",
    "plt.title(\"Distribution of Player's Total\")\n",
    "\n",
    "# Histogram of Dealer's Visible Card\n",
    "plt.subplot(2, 2, 2)\n",
    "sns.histplot(df[\"Dealer_Card\"], bins=10, kde=True, color=\"red\")\n",
    "plt.title(\"Distribution of Dealer's Visible Card\")\n",
    "\n",
    "# Distribution of Zen Count\n",
    "plt.subplot(2, 2, 3)\n",
    "sns.histplot(df[\"Zen_Count\"], bins=10, kde=True, color=\"green\")\n",
    "plt.title(\"Distribution of Zen Count\")\n",
    "\n",
    "# Distribution of Decision Taken (Hit/Stand)\n",
    "plt.subplot(2, 2, 4)\n",
    "sns.barplot(x=decision_counts.index, y=decision_counts.values, palette=\"coolwarm\")\n",
    "plt.xticks([0, 1], [\"Stand\", \"Hit\"])\n",
    "plt.title(\"Decision Distribution\")\n",
    "\n",
    "plt.tight_layout()\n",
    "plt.show()"
   ]
  },
  {
   "cell_type": "code",
   "execution_count": 39,
   "id": "d539f282",
   "metadata": {},
   "outputs": [
    {
     "name": "stdout",
     "output_type": "stream",
     "text": [
      "\n",
      "📊 **Probability analysis by decision:**\n",
      "         Prob_Win                                                         \\\n",
      "            count      mean       std  min       25%       50%       75%   \n",
      "Decision                                                                   \n",
      "0         20222.0  0.448784  0.187199  0.1  0.311242  0.446873  0.586179   \n",
      "1         29778.0  0.450499  0.185521  0.1  0.314468  0.449585  0.584509   \n",
      "\n",
      "                   Prob_Loss            ...                Prob_Draw  \\\n",
      "               max     count      mean  ...       75%  max     count   \n",
      "Decision                                ...                            \n",
      "0         0.899683   20222.0  0.548641  ...  0.685831  0.9   20222.0   \n",
      "1         0.899734   29778.0  0.548865  ...  0.684205  0.9   29778.0   \n",
      "\n",
      "                                                                 \n",
      "              mean       std  min  25%       50%       75%  max  \n",
      "Decision                                                         \n",
      "0         0.066170  0.081687  0.0  0.0  0.004521  0.148379  0.2  \n",
      "1         0.065682  0.081886  0.0  0.0  0.000864  0.148361  0.2  \n",
      "\n",
      "[2 rows x 24 columns]\n"
     ]
    }
   ],
   "source": [
    "# 🔥 **Analysis of probabilities based on decisions**\n",
    "prob_analysis = df.groupby(\"Decision\")[[\"Prob_Win\", \"Prob_Loss\", \"Prob_Draw\"]].describe()\n",
    "print(\"\\n📊 **Probability analysis by decision:**\")\n",
    "print(prob_analysis)"
   ]
  },
  {
   "cell_type": "code",
   "execution_count": 40,
   "id": "6b55035f",
   "metadata": {},
   "outputs": [
    {
     "name": "stdout",
     "output_type": "stream",
     "text": [
      "🎯 Model Accuracy: 100.00%\n"
     ]
    },
    {
     "data": {
      "text/plain": [
       "['blackjack_randomforest_model.pkl']"
      ]
     },
     "execution_count": 40,
     "metadata": {},
     "output_type": "execute_result"
    }
   ],
   "source": [
    "import pandas as pd\n",
    "from sklearn.model_selection import train_test_split\n",
    "from sklearn.ensemble import RandomForestClassifier\n",
    "from sklearn.metrics import accuracy_score\n",
    "import joblib\n",
    "df = pd.read_csv(\"blackjack_training_dataset.csv\")\n",
    "\n",
    "# Definir variables de entrada y salida\n",
    "X = df[[\"Player_Total\", \"Dealer_Card\", \"Has_Ace\", \"Zen_Count\", \"Prob_Win\", \"Prob_Loss\", \"Prob_Draw\"]]\n",
    "y = df[\"Decision\"]\n",
    "# Dividir en datos de entrenamiento y prueba\n",
    "X_train, X_test, y_train, y_test = train_test_split(X, y, test_size=0.2, random_state=42)\n",
    "\n",
    "# Inicializar y entrenar el modelo RandomForest\n",
    "rf_model = RandomForestClassifier(n_estimators=200, max_depth=10, random_state=42)\n",
    "rf_model.fit(X_train, y_train)\n",
    "# Evaluar el modelo\n",
    "y_pred = rf_model.predict(X_test)\n",
    "accuracy = accuracy_score(y_test, y_pred)\n",
    "print(f\"🎯 Model Accuracy: {accuracy:.2%}\")\n",
    "# Guardar el modelo entrenado\n",
    "joblib.dump(rf_model, \"blackjack_randomforest_model.pkl\")\n"
   ]
  },
  {
   "cell_type": "code",
   "execution_count": 44,
   "id": "23d6950c",
   "metadata": {},
   "outputs": [
    {
     "name": "stdout",
     "output_type": "stream",
     "text": [
      "\n",
      "🎰 **Blackjack AI Decision Simulation** 🎰\n",
      "🃏 Player's Hand: 5\n",
      "🎭 Dealer's Card: 10\n",
      "🎴 Has an Ace: No\n",
      "📊 Zen Count: 7\n",
      "\n",
      "🔎 **AI Decision with Basic Strategy**\n",
      "📢 **Recommended Action:** Hit\n",
      "\n",
      "📊 **Expected Outcomes for the Recommended Action**\n",
      "🏆 Win Probability: 55.70%\n",
      "💀 Loss Probability: 33.54%\n",
      "⚖️ Draw Probability: 10.76%\n"
     ]
    },
    {
     "name": "stderr",
     "output_type": "stream",
     "text": [
      "/opt/anaconda3/lib/python3.12/site-packages/sklearn/base.py:493: UserWarning: X does not have valid feature names, but RandomForestClassifier was fitted with feature names\n",
      "  warnings.warn(\n"
     ]
    }
   ],
   "source": [
    "import joblib\n",
    "import numpy as np\n",
    "rf_model = joblib.load(\"blackjack_randomforest_model.pkl\")\n",
    "# Tabla de estrategia básica (simplificada)\n",
    "basic_strategy = {\n",
    "    (12, 2): 1, (12, 3): 1, (12, 4): 0, (12, 5): 0, (12, 6): 0, (12, 7): 1, (12, 8): 1, (12, 9): 1, (12, 10): 1,\n",
    "    (16, 9): 1, (16, 10): 1, (16, 11): 1,\n",
    "    (13, 6): 0, (14, 6): 0, (15, 6): 0, (16, 6): 0,\n",
    "    (17, 2): 0, (17, 3): 0, (17, 4): 0, (17, 5): 0, (17, 6): 0, (17, 7): 0, (17, 8): 0, (17, 9): 0, (17, 10): 0,\n",
    "}\n",
    "\n",
    "# Función para simular una partida con probabilidades realistas\n",
    "def simulate_game_realistic(n_simulations=5000):\n",
    "    # Simulación de una mano aleatoria\n",
    "    player_total = np.random.randint(4, 22)\n",
    "    dealer_card = np.random.randint(1, 11)\n",
    "    has_ace = np.random.choice([0, 1])\n",
    "    zen_count = np.random.randint(-10, 11)\n",
    "\n",
    "    # Crear vector de entrada para el modelo\n",
    "    input_data = np.array([[player_total, dealer_card, has_ace, zen_count, 0, 0, 0]])\n",
    "    decision_model = rf_model.predict(input_data)[0]\n",
    "    decision_strategy = basic_strategy.get((player_total, dealer_card), decision_model)\n",
    "    decision_text = \"Hit\" if decision_strategy == 1 else \"Stand\"\n",
    "\n",
    "    # Ajustar probabilidades con reglas del Blackjack y conteo Zen\n",
    "    win_count, loss_count, draw_count = 0, 0, 0\n",
    "\n",
    "    for _ in range(n_simulations):\n",
    "        # Ajustar probabilidades según el Zen Count y la mano\n",
    "        if zen_count > 5:\n",
    "            prob_win = np.random.uniform(0.4, 0.75)\n",
    "            prob_loss = np.random.uniform(0.2, 0.5)\n",
    "        elif zen_count < -5:\n",
    "            prob_win = np.random.uniform(0.2, 0.45)\n",
    "            prob_loss = np.random.uniform(0.4, 0.7)\n",
    "        else:\n",
    "            prob_win = np.random.uniform(0.3, 0.6)\n",
    "            prob_loss = np.random.uniform(0.3, 0.6)\n",
    "\n",
    "        # Evitar valores negativos y asegurar que la suma sea 1\n",
    "        prob_draw = max(0, 1 - (prob_win + prob_loss))\n",
    "        prob_win = max(0, prob_win)\n",
    "        prob_loss = max(0, prob_loss)\n",
    "\n",
    "        # Normalizar para que sumen 1\n",
    "        total_prob = prob_win + prob_loss + prob_draw\n",
    "        if total_prob > 0:\n",
    "            prob_win /= total_prob\n",
    "            prob_loss /= total_prob\n",
    "            prob_draw /= total_prob\n",
    "\n",
    "        outcome = np.random.choice([\"Win\", \"Loss\", \"Draw\"], p=[prob_win, prob_loss, prob_draw])\n",
    "\n",
    "        if outcome == \"Win\":\n",
    "            win_count += 1\n",
    "        elif outcome == \"Loss\":\n",
    "            loss_count += 1\n",
    "        else:\n",
    "            draw_count += 1\n",
    "\n",
    "    # Calcular probabilidades basadas en simulaciones\n",
    "    total = win_count + loss_count + draw_count\n",
    "    prob_win = win_count / total if total > 0 else 0\n",
    "    prob_loss = loss_count / total if total > 0 else 0\n",
    "    prob_draw = draw_count / total if total > 0 else 0\n",
    "\n",
    "    # Mostrar los resultados\n",
    "    print(\"\\n🎰 **Blackjack AI Decision Simulation** 🎰\")\n",
    "    print(f\"🃏 Player's Hand: {player_total}\")\n",
    "    print(f\"🎭 Dealer's Card: {dealer_card}\")\n",
    "    print(f\"🎴 Has an Ace: {'Yes' if has_ace else 'No'}\")\n",
    "    print(f\"📊 Zen Count: {zen_count}\")\n",
    "    print(\"\\n🔎 **AI Decision with Basic Strategy**\")\n",
    "    print(f\"📢 **Recommended Action:**\", decision_text)\n",
    "    print(\"\\n📊 **Expected Outcomes for the Recommended Action**\")\n",
    "    print(f\"🏆 Win Probability: {prob_win * 100:.2f}%\")\n",
    "    print(f\"💀 Loss Probability: {prob_loss * 100:.2f}%\")\n",
    "    print(f\"⚖️ Draw Probability: {prob_draw * 100:.2f}%\")\n",
    "\n",
    "# Ejecutar la simulación\n",
    "simulate_game_realistic()"
   ]
  },
  {
   "cell_type": "code",
   "execution_count": 46,
   "id": "b469d7f8",
   "metadata": {},
   "outputs": [
    {
     "name": "stdout",
     "output_type": "stream",
     "text": [
      "\n",
      "🎰 Welcome to Blackjack AI Simulation! 🎰\n",
      "\n",
      "\n",
      "🎰 **Blackjack AI Decision Simulation** 🎰\n",
      "🃏 Player's Hand: 17\n",
      "🎭 Dealer's Card: 4\n",
      "🎴 Has an Ace: No\n",
      "📊 Zen Count: 13\n",
      "\n",
      "📢 **Recommended Action:** Stand\n",
      "\n",
      "📊 **Expected Outcomes for the Recommended Action**\n",
      "🏆 Win Probability: 90.00%\n",
      "💀 Loss Probability: 10.00%\n",
      "⚖️ Draw Probability: 1.08%\n"
     ]
    }
   ],
   "source": [
    "import numpy as np\n",
    "\n",
    "# Function to determine the best action using basic strategy + Zen Count\n",
    "def basic_blackjack_strategy(player_total, dealer_card, has_ace, zen_count):\n",
    "\n",
    "    if player_total >= 17:\n",
    "        return \"Stand\"  \n",
    "    if player_total <= 11:\n",
    "        return \"Hit\"  \n",
    "    if player_total == 12:\n",
    "        return \"Stand\" if dealer_card in [4, 5, 6] else \"Hit\"  \n",
    "    if player_total in [13, 14, 15, 16]:\n",
    "        return \"Stand\" if dealer_card in [2, 3, 4, 5, 6] else \"Hit\"  \n",
    "    if zen_count > 3 and player_total >= 15:\n",
    "        return \"Stand\"  \n",
    "    return \"Hit\"  \n",
    "\n",
    "# Function to estimate realistic probabilities\n",
    "def estimate_win_probabilities(player_total, dealer_card, zen_count):\n",
    "\n",
    "    base_win = np.random.uniform(0.2, 0.7)\n",
    "    base_loss = np.random.uniform(0.3, 0.8)\n",
    "\n",
    "   \n",
    "    prob_win = base_win + (zen_count * 0.02)\n",
    "    prob_loss = base_loss - (zen_count * 0.02)\n",
    "    prob_draw = 1 - (prob_win + prob_loss)\n",
    "    prob_win = max(0.1, min(0.9, prob_win))\n",
    "    prob_loss = max(0.1, min(0.9, prob_loss))\n",
    "    prob_draw = max(0.0, min(0.2, prob_draw))\n",
    "\n",
    "    return prob_win, prob_loss, prob_draw\n",
    "\n",
    "# User input function\n",
    "def blackjack_user_simulation():\n",
    "    \"\"\"\n",
    "    Interactive simulation where the user inputs their cards, and AI provides the best decision.\n",
    "    \"\"\"\n",
    "    print(\"\\n🎰 Welcome to Blackjack AI Simulation! 🎰\\n\")\n",
    "\n",
    "    player_total = int(input(\"🔢 Enter your total hand value (4-21): \"))\n",
    "    dealer_card = int(input(\"🎭 Enter the dealer's visible card (1-10): \"))\n",
    "    has_ace = input(\"🃏 Do you have an Ace? (yes/no): \").strip().lower() == \"yes\"\n",
    "\n",
    "    zen_count = player_total - dealer_card\n",
    "    decision = basic_blackjack_strategy(player_total, dealer_card, has_ace, zen_count)\n",
    "    prob_win, prob_loss, prob_draw = estimate_win_probabilities(player_total, dealer_card, zen_count)\n",
    "\n",
    "\n",
    "    print(\"\\n🎰 **Blackjack AI Decision Simulation** 🎰\")\n",
    "    print(f\"🃏 Player's Hand: {player_total}\")\n",
    "    print(f\"🎭 Dealer's Card: {dealer_card}\")\n",
    "    print(f\"🎴 Has an Ace: {'Yes' if has_ace else 'No'}\")\n",
    "    print(f\"📊 Zen Count: {zen_count}\")\n",
    "    print(\"\\n📢 **Recommended Action:**\", decision)\n",
    "    print(\"\\n📊 **Expected Outcomes for the Recommended Action**\")\n",
    "    print(f\"🏆 Win Probability: {prob_win * 100:.2f}%\")\n",
    "    print(f\"💀 Loss Probability: {prob_loss * 100:.2f}%\")\n",
    "    print(f\"⚖️ Draw Probability: {prob_draw * 100:.2f}%\")\n",
    "\n",
    "blackjack_user_simulation()"
   ]
  },
  {
   "cell_type": "code",
   "execution_count": null,
   "id": "7bd0824e",
   "metadata": {},
   "outputs": [],
   "source": []
  }
 ],
 "metadata": {
  "kernelspec": {
   "display_name": "base",
   "language": "python",
   "name": "python3"
  },
  "language_info": {
   "codemirror_mode": {
    "name": "ipython",
    "version": 3
   },
   "file_extension": ".py",
   "mimetype": "text/x-python",
   "name": "python",
   "nbconvert_exporter": "python",
   "pygments_lexer": "ipython3",
   "version": "3.12.4"
  }
 },
 "nbformat": 4,
 "nbformat_minor": 5
}
